{
  "nbformat": 4,
  "nbformat_minor": 0,
  "metadata": {
    "colab": {
      "provenance": [],
      "gpuType": "T4",
      "authorship_tag": "ABX9TyMOMtduuLuNDEs1x9I2AUD+",
      "include_colab_link": true
    },
    "kernelspec": {
      "name": "python3",
      "display_name": "Python 3"
    },
    "language_info": {
      "name": "python"
    },
    "accelerator": "GPU"
  },
  "cells": [
    {
      "cell_type": "markdown",
      "metadata": {
        "id": "view-in-github",
        "colab_type": "text"
      },
      "source": [
        "<a href=\"https://colab.research.google.com/github/JohnPaulPrabhu/PyTorch_Training/blob/main/PyTorch_Essential_training.ipynb\" target=\"_parent\"><img src=\"https://colab.research.google.com/assets/colab-badge.svg\" alt=\"Open In Colab\"/></a>"
      ]
    },
    {
      "cell_type": "code",
      "execution_count": 1,
      "metadata": {
        "colab": {
          "base_uri": "https://localhost:8080/"
        },
        "id": "zOBlrGKdFj2J",
        "outputId": "1b93a17a-214a-479e-80d8-3dd2fbcb7311"
      },
      "outputs": [
        {
          "output_type": "stream",
          "name": "stdout",
          "text": [
            "tensor([[1, 1, 1],\n",
            "        [1, 1, 1]])\n",
            "tensor([[ 1,  3,  5],\n",
            "        [ 7,  9, 11]])\n",
            "torch.Size([2, 3])\n",
            "torch.Size([2, 3])\n"
          ]
        }
      ],
      "source": [
        "import torch as t\n",
        "\n",
        "a = t.tensor([[1,2,3],[4,5,6]])\n",
        "b = t.tensor([[0,1,2],[3,4,5]])\n",
        "\n",
        "print(a-b)\n",
        "print(a+b)\n",
        "print(a.size())\n",
        "print(b.size())"
      ]
    },
    {
      "cell_type": "code",
      "source": [
        "if t.cuda.is_available():\n",
        "  device = \"cuda\"\n",
        "else:\n",
        "  device = 'cpu'\n",
        "\n",
        "a = t.tensor([[1,2,3],[4,5,6]], device=device)\n",
        "b = t.tensor([[0,1,2],[3,4,5]], device=device)\n",
        "\n",
        "print(a*b)\n",
        "# print(t.matmul(a,b)) matrix multiplication needs correct matrix size"
      ],
      "metadata": {
        "colab": {
          "base_uri": "https://localhost:8080/"
        },
        "id": "iP7s7TKWHdec",
        "outputId": "6b696782-e41b-4dc6-d742-17b5f84db8ac"
      },
      "execution_count": 2,
      "outputs": [
        {
          "output_type": "stream",
          "name": "stdout",
          "text": [
            "tensor([[ 0,  2,  6],\n",
            "        [12, 20, 30]], device='cuda:0')\n"
          ]
        }
      ]
    },
    {
      "cell_type": "code",
      "source": [
        "emp = t.empty([2,3])\n",
        "print(emp)\n",
        "\n",
        "zeros = t.zeros(2,3)\n",
        "print(zeros)\n",
        "\n",
        "ones = t.ones([2,3], dtype=t.int16)\n",
        "print(ones)"
      ],
      "metadata": {
        "colab": {
          "base_uri": "https://localhost:8080/"
        },
        "id": "2fqPy43Hh-XJ",
        "outputId": "e90023e5-3035-4460-a128-470c3a35e5b9"
      },
      "execution_count": 3,
      "outputs": [
        {
          "output_type": "stream",
          "name": "stdout",
          "text": [
            "tensor([[-6.1745e-24,  4.3590e-41, -6.1745e-24],\n",
            "        [ 4.3590e-41,  0.0000e+00,  0.0000e+00]])\n",
            "tensor([[0., 0., 0.],\n",
            "        [0., 0., 0.]])\n",
            "tensor([[1, 1, 1],\n",
            "        [1, 1, 1]], dtype=torch.int16)\n"
          ]
        }
      ]
    },
    {
      "cell_type": "code",
      "source": [
        "# Generate a tensor with a uniform distribution of random numbers\n",
        "uniform_tensor = t.rand([2, 3])\n",
        "print(uniform_tensor)\n",
        "\n",
        "# Generate a tensor with a normal (Gaussian) distribution of random numbers\n",
        "normal_tensor = t.randn([2, 3])\n",
        "print(normal_tensor)\n",
        "\n",
        "'''\n",
        "- Generates a tensor with random integers\n",
        "- The parameters 5 and 10 specify the range: 5 (inclusive) to 10 (exclusive)\n",
        "- The shape of the output tensor is [2, 3]\n",
        "'''\n",
        "random_integer_tensor = t.randint(5, 10, [2, 3])\n",
        "print(random_integer_tensor)\n",
        "\n",
        "# Create a tensor of ones with the same shape as the randomly generated integer tensor\n",
        "ones_like_tensor = t.ones_like(random_integer_tensor)\n",
        "print(ones_like_tensor)\n"
      ],
      "metadata": {
        "colab": {
          "base_uri": "https://localhost:8080/"
        },
        "id": "PpomrJcbiHcK",
        "outputId": "e7e5bb8d-c879-4d28-ebef-5c208292b087"
      },
      "execution_count": 4,
      "outputs": [
        {
          "output_type": "stream",
          "name": "stdout",
          "text": [
            "tensor([[0.7788, 0.9117, 0.7873],\n",
            "        [0.1473, 0.0033, 0.0925]])\n",
            "tensor([[ 2.1538, -0.7440, -0.0802],\n",
            "        [-0.6317,  0.4038, -0.5248]])\n",
            "tensor([[8, 9, 5],\n",
            "        [6, 6, 5]])\n",
            "tensor([[1, 1, 1],\n",
            "        [1, 1, 1]])\n"
          ]
        }
      ]
    },
    {
      "cell_type": "code",
      "source": [
        "tensors = t.tensor([1,2,3,4]).reshape([2,2])\n",
        "print(tensors)"
      ],
      "metadata": {
        "colab": {
          "base_uri": "https://localhost:8080/"
        },
        "id": "CpCnqAhXGc97",
        "outputId": "0cd6ccfe-d43b-43e8-ceeb-dd0358cf994d"
      },
      "execution_count": 14,
      "outputs": [
        {
          "output_type": "stream",
          "name": "stdout",
          "text": [
            "tensor([[1, 2],\n",
            "        [3, 4]])\n"
          ]
        }
      ]
    },
    {
      "cell_type": "code",
      "source": [
        "'''\n",
        "TO check the attribute of tensor, we can use the following functions on tensors\n",
        "1. tensor.device - to check the device the tensor is reside in\n",
        "2. tensor.dtype - Check the data type of the tensor\n",
        "3. tensor.shape - Gives the dimention of the tensor\n",
        "4. tensor.ndim - Provides the information about the dimension of the tensor\n",
        "'''\n",
        "tensor = t.tensor([[1,2,3], [3,4,5]])\n",
        "\n",
        "print(\"Device that tensor is in: \", tensor.device)\n",
        "\n",
        "print(\"Data type of the tensor: \", tensor.dtype)\n",
        "\n",
        "print(\"Dimension of the tensor is: \", tensor.shape)\n",
        "\n",
        "print(\"Dimensio of the tensor is: \", tensor.ndim)"
      ],
      "metadata": {
        "colab": {
          "base_uri": "https://localhost:8080/"
        },
        "id": "agIHnryJA-Jz",
        "outputId": "56f65fea-3e11-436d-a349-c7bc12a70a98"
      },
      "execution_count": 13,
      "outputs": [
        {
          "output_type": "stream",
          "name": "stdout",
          "text": [
            "Device that tensor is in:  cpu\n",
            "Data type of the tensor:  torch.int64\n",
            "Dimension of the tensor is:  torch.Size([2, 3])\n",
            "Dimensio of the tensor is:  2\n"
          ]
        }
      ]
    }
  ]
}