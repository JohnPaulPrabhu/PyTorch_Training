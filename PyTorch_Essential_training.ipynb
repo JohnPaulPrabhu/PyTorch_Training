{
  "nbformat": 4,
  "nbformat_minor": 0,
  "metadata": {
    "colab": {
      "provenance": [],
      "gpuType": "T4",
      "authorship_tag": "ABX9TyMt/HBmJMhbDKzFMSePVKYX",
      "include_colab_link": true
    },
    "kernelspec": {
      "name": "python3",
      "display_name": "Python 3"
    },
    "language_info": {
      "name": "python"
    },
    "accelerator": "GPU"
  },
  "cells": [
    {
      "cell_type": "markdown",
      "metadata": {
        "id": "view-in-github",
        "colab_type": "text"
      },
      "source": [
        "<a href=\"https://colab.research.google.com/github/JohnPaulPrabhu/PyTorch_Training/blob/main/PyTorch_Essential_training.ipynb\" target=\"_parent\"><img src=\"https://colab.research.google.com/assets/colab-badge.svg\" alt=\"Open In Colab\"/></a>"
      ]
    },
    {
      "cell_type": "markdown",
      "source": [
        "### Basics"
      ],
      "metadata": {
        "id": "K1mTpRJYtSrK"
      }
    },
    {
      "cell_type": "code",
      "execution_count": 1,
      "metadata": {
        "colab": {
          "base_uri": "https://localhost:8080/"
        },
        "id": "zOBlrGKdFj2J",
        "outputId": "0a118470-f3d6-47a3-f63f-37b5bfbe9443"
      },
      "outputs": [
        {
          "output_type": "stream",
          "name": "stdout",
          "text": [
            "tensor([[1, 1, 1],\n",
            "        [1, 1, 1]])\n",
            "tensor([[ 1,  3,  5],\n",
            "        [ 7,  9, 11]])\n",
            "torch.Size([2, 3])\n",
            "torch.Size([2, 3])\n"
          ]
        }
      ],
      "source": [
        "import torch as t\n",
        "\n",
        "a = t.tensor([[1,2,3],[4,5,6]])\n",
        "b = t.tensor([[0,1,2],[3,4,5]])\n",
        "\n",
        "print(a-b)\n",
        "print(a+b)\n",
        "print(a.size())\n",
        "print(b.size())"
      ]
    },
    {
      "cell_type": "code",
      "source": [
        "if t.cuda.is_available():\n",
        "  device = \"cuda\"\n",
        "else:\n",
        "  device = 'cpu'\n",
        "\n",
        "a = t.tensor([[1,2,3],[4,5,6]], device=device)\n",
        "b = t.tensor([[0,1,2],[3,4,5]], device=device)\n",
        "\n",
        "print(a*b)\n",
        "# print(t.matmul(a,b)) matrix multiplication needs correct matrix size"
      ],
      "metadata": {
        "colab": {
          "base_uri": "https://localhost:8080/"
        },
        "id": "iP7s7TKWHdec",
        "outputId": "aadb4ec9-35f3-4413-b079-918c2c3188c1"
      },
      "execution_count": 2,
      "outputs": [
        {
          "output_type": "stream",
          "name": "stdout",
          "text": [
            "tensor([[ 0,  2,  6],\n",
            "        [12, 20, 30]], device='cuda:0')\n"
          ]
        }
      ]
    },
    {
      "cell_type": "code",
      "source": [
        "emp = t.empty([2,3])\n",
        "print(emp)\n",
        "\n",
        "zeros = t.zeros(2,3)\n",
        "print(zeros)\n",
        "\n",
        "ones = t.ones([2,3], dtype=t.int16)\n",
        "print(ones)"
      ],
      "metadata": {
        "colab": {
          "base_uri": "https://localhost:8080/"
        },
        "id": "2fqPy43Hh-XJ",
        "outputId": "921ba300-b517-4998-a384-060d9db87219"
      },
      "execution_count": 3,
      "outputs": [
        {
          "output_type": "stream",
          "name": "stdout",
          "text": [
            "tensor([[2.4079e-15, 4.3379e-41, 1.4013e-45],\n",
            "        [0.0000e+00, 0.0000e+00, 0.0000e+00]])\n",
            "tensor([[0., 0., 0.],\n",
            "        [0., 0., 0.]])\n",
            "tensor([[1, 1, 1],\n",
            "        [1, 1, 1]], dtype=torch.int16)\n"
          ]
        }
      ]
    },
    {
      "cell_type": "markdown",
      "source": [
        "### Generating random values"
      ],
      "metadata": {
        "id": "k5AVDn1atYiJ"
      }
    },
    {
      "cell_type": "code",
      "source": [
        "# Generate a tensor with a uniform distribution of random numbers\n",
        "uniform_tensor = t.rand([2, 3])\n",
        "print(uniform_tensor)\n",
        "\n",
        "# Generate a tensor with a normal (Gaussian) distribution of random numbers\n",
        "normal_tensor = t.randn([2, 3])\n",
        "print(normal_tensor)\n",
        "\n",
        "'''\n",
        "- Generates a tensor with random integers\n",
        "- The parameters 5 and 10 specify the range: 5 (inclusive) to 10 (exclusive)\n",
        "- The shape of the output tensor is [2, 3]\n",
        "'''\n",
        "random_integer_tensor = t.randint(5, 10, [2, 3])\n",
        "print(random_integer_tensor)\n",
        "\n",
        "# Create a tensor of ones with the same shape as the randomly generated integer tensor\n",
        "ones_like_tensor = t.ones_like(random_integer_tensor)\n",
        "print(ones_like_tensor)\n"
      ],
      "metadata": {
        "colab": {
          "base_uri": "https://localhost:8080/"
        },
        "id": "PpomrJcbiHcK",
        "outputId": "ea89f35c-3671-483a-b765-10e9e2421f1c"
      },
      "execution_count": 4,
      "outputs": [
        {
          "output_type": "stream",
          "name": "stdout",
          "text": [
            "tensor([[0.4434, 0.6142, 0.1399],\n",
            "        [0.8501, 0.1305, 0.6992]])\n",
            "tensor([[-1.5208,  1.3141, -0.1109],\n",
            "        [ 0.3134, -0.8329, -0.2648]])\n",
            "tensor([[9, 9, 5],\n",
            "        [8, 8, 9]])\n",
            "tensor([[1, 1, 1],\n",
            "        [1, 1, 1]])\n"
          ]
        }
      ]
    },
    {
      "cell_type": "code",
      "source": [
        "tensors = t.tensor([1,2,3,4]).reshape([2,2])\n",
        "print(tensors)"
      ],
      "metadata": {
        "colab": {
          "base_uri": "https://localhost:8080/"
        },
        "id": "CpCnqAhXGc97",
        "outputId": "f70eeed3-33ba-40e6-af8d-a415f4a4b28b"
      },
      "execution_count": 5,
      "outputs": [
        {
          "output_type": "stream",
          "name": "stdout",
          "text": [
            "tensor([[1, 2],\n",
            "        [3, 4]])\n"
          ]
        }
      ]
    },
    {
      "cell_type": "markdown",
      "source": [
        "### Attributes of Tensors"
      ],
      "metadata": {
        "id": "sSUAGVPHteR7"
      }
    },
    {
      "cell_type": "code",
      "source": [
        "'''\n",
        "TO check the attribute of tensor, we can use the following functions on tensors\n",
        "1. tensor.device - to check the device the tensor is reside in\n",
        "2. tensor.dtype - Check the data type of the tensor\n",
        "3. tensor.shape - Gives the dimention of the tensor\n",
        "4. tensor.ndim - Provides the information about the dimension of the tensor\n",
        "'''\n",
        "tensor = t.tensor([[1,2,3], [3,4,5]])\n",
        "\n",
        "print(\"Device that tensor is in: \", tensor.device)\n",
        "\n",
        "print(\"Data type of the tensor: \", tensor.dtype)\n",
        "\n",
        "print(\"Dimension of the tensor is: \", tensor.shape)\n",
        "\n",
        "print(\"Dimensio of the tensor is: \", tensor.ndim)"
      ],
      "metadata": {
        "colab": {
          "base_uri": "https://localhost:8080/"
        },
        "id": "agIHnryJA-Jz",
        "outputId": "bb4a64c7-032c-4993-d526-31529632fc7e"
      },
      "execution_count": 6,
      "outputs": [
        {
          "output_type": "stream",
          "name": "stdout",
          "text": [
            "Device that tensor is in:  cpu\n",
            "Data type of the tensor:  torch.int64\n",
            "Dimension of the tensor is:  torch.Size([2, 3])\n",
            "Dimensio of the tensor is:  2\n"
          ]
        }
      ]
    },
    {
      "cell_type": "markdown",
      "source": [
        "### Data types of Tensors"
      ],
      "metadata": {
        "id": "UJvtjZYxtjtI"
      }
    },
    {
      "cell_type": "code",
      "source": [
        "\"\"\"\n",
        "We have different types of the data types available in PyTorch\n",
        "1. int8\n",
        "2. int16\n",
        "3. int32\n",
        "4. int64\n",
        "5. uint8\n",
        "6. uint16\n",
        "7. uint32\n",
        "8. uint64\n",
        "9. float8\n",
        "10. float16\n",
        "11. float32\n",
        "12. float64\n",
        "and so on\n",
        "There are multiple data types availble in PyTorch\n",
        "\"\"\"\n",
        "one_dim_tensor = t.tensor([1,2,3,4,5,6,255], dtype=t.uint8)\n",
        "print(one_dim_tensor)\n",
        "\n",
        "# Incase we need to cast an another type to existing tensor, then we can do the following\n",
        "one_dim_tensor = one_dim_tensor.float()\n",
        "print(one_dim_tensor.dtype)\n",
        "\n",
        "# We can also use the .to function to change the data type or device\n",
        "one_dim_tensor = one_dim_tensor.to(dtype=t.float16)\n",
        "print(one_dim_tensor)"
      ],
      "metadata": {
        "colab": {
          "base_uri": "https://localhost:8080/"
        },
        "id": "aP1EmB88EMGV",
        "outputId": "2c89f9de-b964-42ea-8cd0-ecc328575dc5"
      },
      "execution_count": 7,
      "outputs": [
        {
          "output_type": "stream",
          "name": "stdout",
          "text": [
            "tensor([  1,   2,   3,   4,   5,   6, 255], dtype=torch.uint8)\n",
            "torch.float32\n",
            "tensor([  1.,   2.,   3.,   4.,   5.,   6., 255.], dtype=torch.float16)\n"
          ]
        }
      ]
    },
    {
      "cell_type": "code",
      "source": [
        "'''\n",
        "- When we run the below code, each time we will get different values\n",
        "- To avoid it, we can use something called seed\n",
        "'''\n",
        "t.manual_seed(11)\n",
        "\n",
        "#Create random samples from normal distribution\n",
        "random_sample = t.randn(3, 3)\n",
        "print(random_sample)\n",
        "\n",
        "# Create random sample from Uniform distribution\n",
        "uniform_sample = t.rand(3, 3)\n",
        "print(uniform_sample)\n",
        "\n",
        "# Create random integers\n",
        "rand_int = t.randint(1,10,(3,3))\n",
        "print(rand_int)"
      ],
      "metadata": {
        "colab": {
          "base_uri": "https://localhost:8080/"
        },
        "id": "kAsCVJ0SSMT-",
        "outputId": "92250460-aecf-4bc6-f297-bdc79363a550"
      },
      "execution_count": 8,
      "outputs": [
        {
          "output_type": "stream",
          "name": "stdout",
          "text": [
            "tensor([[ 0.7376,  1.9459, -0.6995],\n",
            "        [-1.3023, -0.5133, -0.2696],\n",
            "        [ 0.2462,  0.4839,  0.4504]])\n",
            "tensor([[0.8709, 0.7231, 0.8364],\n",
            "        [0.5820, 0.8395, 0.0595],\n",
            "        [0.4315, 0.4425, 0.2622]])\n",
            "tensor([[9, 2, 5],\n",
            "        [1, 5, 5],\n",
            "        [8, 4, 5]])\n"
          ]
        }
      ]
    },
    {
      "cell_type": "code",
      "source": [
        "'''\n",
        "We can create tensor based on other tensor\n",
        "There are three functions we can use to achieve this result\n",
        "1. rand_like - This will provide the values from uniform distribution that has\n",
        "               same size as the mentioned tensor\n",
        "2. ones_like - Create tensors of 1\n",
        "3. full_like - Create tensors of mentioned number\n",
        "'''\n",
        "import torch as t\n",
        "ten = t.tensor([[1,2,3,4],[5,6,7,8]])\n",
        "\n",
        "rand_likes = t.rand_like(uniform_sample)\n",
        "print(rand_likes)\n",
        "\n",
        "one = t.ones_like(ten)\n",
        "print(one)\n",
        "\n",
        "full = t.full_like(ten, 333)\n",
        "print(full)"
      ],
      "metadata": {
        "colab": {
          "base_uri": "https://localhost:8080/"
        },
        "id": "7daCGF2LWVj1",
        "outputId": "5c07513a-8d69-42a5-bfd3-3749c84ba06a"
      },
      "execution_count": 9,
      "outputs": [
        {
          "output_type": "stream",
          "name": "stdout",
          "text": [
            "tensor([[0.4256, 0.4382, 0.2988],\n",
            "        [0.8474, 0.4785, 0.1935],\n",
            "        [0.2239, 0.5639, 0.6125]])\n",
            "tensor([[1, 1, 1, 1],\n",
            "        [1, 1, 1, 1]])\n",
            "tensor([[333, 333, 333, 333],\n",
            "        [333, 333, 333, 333]])\n"
          ]
        }
      ]
    },
    {
      "cell_type": "markdown",
      "source": [
        "### Tensor Operations"
      ],
      "metadata": {
        "id": "IU4QUwxmtNQ0"
      }
    },
    {
      "cell_type": "code",
      "source": [
        "# Accessing data in 1D tensors is same as accessing data in List\n",
        "data = t.tensor([1,2,3,4,5])\n",
        "print(data[4])\n",
        "\n",
        "# If you want just the value, not the type then We can use .item() function\n",
        "print(data[4].item())\n",
        "\n",
        "# Slicing is same as List slicing\n",
        "# [start:end:step]\n",
        "print(data[1:4])\n",
        "print(data[1:4:2])\n",
        "\n",
        "# access data in 2D data\n",
        "data_2d = t.tensor([[1,2,3,4,5],[6,7,8,9,10],[2,4,6,8,10]])\n",
        "print(data_2d[0][3])\n",
        "\n",
        "# Slicing in 2D data\n",
        "print(data_2d[2, 0:3])\n",
        "\n",
        "# We can also use condition on slicing\n",
        "print(data_2d[data_2d < 10])\n",
        "\n",
        "# Combine 2 tensors\n",
        "print(t.stack((data_2d, data_2d)))\n",
        "\n",
        "# Split tensors\n",
        "print(t.unbind(data_2d))\n",
        "\n",
        "# While spliting we can also use the dim=1 to split it by column\n",
        "print(t.unbind(data_2d, dim=1))"
      ],
      "metadata": {
        "colab": {
          "base_uri": "https://localhost:8080/"
        },
        "id": "mDo_YJlUYgPG",
        "outputId": "ae741512-6f7e-4ed9-b028-744f670cc543"
      },
      "execution_count": 10,
      "outputs": [
        {
          "output_type": "stream",
          "name": "stdout",
          "text": [
            "tensor(5)\n",
            "5\n",
            "tensor([2, 3, 4])\n",
            "tensor([2, 4])\n",
            "tensor(4)\n",
            "tensor([2, 4, 6])\n",
            "tensor([1, 2, 3, 4, 5, 6, 7, 8, 9, 2, 4, 6, 8])\n",
            "tensor([[[ 1,  2,  3,  4,  5],\n",
            "         [ 6,  7,  8,  9, 10],\n",
            "         [ 2,  4,  6,  8, 10]],\n",
            "\n",
            "        [[ 1,  2,  3,  4,  5],\n",
            "         [ 6,  7,  8,  9, 10],\n",
            "         [ 2,  4,  6,  8, 10]]])\n",
            "(tensor([1, 2, 3, 4, 5]), tensor([ 6,  7,  8,  9, 10]), tensor([ 2,  4,  6,  8, 10]))\n",
            "(tensor([1, 6, 2]), tensor([2, 7, 4]), tensor([3, 8, 6]), tensor([4, 9, 8]), tensor([ 5, 10, 10]))\n"
          ]
        }
      ]
    }
  ]
}