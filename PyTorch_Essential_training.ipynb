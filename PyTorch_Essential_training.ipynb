{
  "nbformat": 4,
  "nbformat_minor": 0,
  "metadata": {
    "colab": {
      "provenance": [],
      "gpuType": "T4",
      "authorship_tag": "ABX9TyNstNbgxQjautwdTaTrWrQp",
      "include_colab_link": true
    },
    "kernelspec": {
      "name": "python3",
      "display_name": "Python 3"
    },
    "language_info": {
      "name": "python"
    },
    "accelerator": "GPU"
  },
  "cells": [
    {
      "cell_type": "markdown",
      "metadata": {
        "id": "view-in-github",
        "colab_type": "text"
      },
      "source": [
        "<a href=\"https://colab.research.google.com/github/JohnPaulPrabhu/PyTorch_Training/blob/main/PyTorch_Essential_training.ipynb\" target=\"_parent\"><img src=\"https://colab.research.google.com/assets/colab-badge.svg\" alt=\"Open In Colab\"/></a>"
      ]
    },
    {
      "cell_type": "code",
      "execution_count": 2,
      "metadata": {
        "colab": {
          "base_uri": "https://localhost:8080/"
        },
        "id": "zOBlrGKdFj2J",
        "outputId": "4933c9dd-1c2f-45ed-bea9-07b4bca8e765"
      },
      "outputs": [
        {
          "output_type": "stream",
          "name": "stdout",
          "text": [
            "tensor([[1, 1, 1],\n",
            "        [1, 1, 1]])\n",
            "tensor([[ 1,  3,  5],\n",
            "        [ 7,  9, 11]])\n",
            "torch.Size([2, 3])\n",
            "torch.Size([2, 3])\n"
          ]
        }
      ],
      "source": [
        "import torch as t\n",
        "\n",
        "a = t.tensor([[1,2,3],[4,5,6]])\n",
        "b = t.tensor([[0,1,2],[3,4,5]])\n",
        "\n",
        "print(a-b)\n",
        "print(a+b)\n",
        "print(a.size())\n",
        "print(b.size())"
      ]
    },
    {
      "cell_type": "code",
      "source": [
        "if t.cuda.is_available():\n",
        "  device = \"cuda\"\n",
        "else:\n",
        "  device = 'cpu'\n",
        "\n",
        "a = t.tensor([[1,2,3],[4,5,6]], device=device)\n",
        "b = t.tensor([[0,1,2],[3,4,5]], device=device)\n",
        "\n",
        "print(a*b)\n",
        "# print(t.matmul(a,b)) matric multiplication needs proper matrix size"
      ],
      "metadata": {
        "colab": {
          "base_uri": "https://localhost:8080/"
        },
        "id": "iP7s7TKWHdec",
        "outputId": "99652e21-03a4-4c02-a3b5-0beef4bf9cfa"
      },
      "execution_count": 3,
      "outputs": [
        {
          "output_type": "stream",
          "name": "stdout",
          "text": [
            "tensor([[ 0,  2,  6],\n",
            "        [12, 20, 30]], device='cuda:0')\n"
          ]
        }
      ]
    },
    {
      "cell_type": "code",
      "source": [
        "emp = t.empty([2,3])\n",
        "print(emp)\n",
        "\n",
        "zeros = t.zeros(2,3)\n",
        "print(zeros)\n",
        "\n",
        "ones = t.ones([2,3], dtype=t.int16)\n",
        "print(ones)"
      ],
      "metadata": {
        "colab": {
          "base_uri": "https://localhost:8080/"
        },
        "id": "2fqPy43Hh-XJ",
        "outputId": "901d99fa-0278-4374-ad48-d71d92a0ad8c"
      },
      "execution_count": 8,
      "outputs": [
        {
          "output_type": "stream",
          "name": "stdout",
          "text": [
            "tensor([[1.3304e-08, 3.1381e-41, 1.0000e+00],\n",
            "        [1.0000e+00, 1.0000e+00, 1.0000e+00]])\n",
            "tensor([[0., 0., 0.],\n",
            "        [0., 0., 0.]])\n",
            "tensor([[1, 1, 1],\n",
            "        [1, 1, 1]], dtype=torch.int16)\n"
          ]
        }
      ]
    },
    {
      "cell_type": "code",
      "source": [
        "# UNiform distribution\n",
        "print(t.rand([2,3]))\n",
        "\n",
        "# Normal Distribution\n",
        "print(t.randn([2,3]))\n",
        "\n",
        "# Uniform distribution\n",
        "print(t.randint(5,10,[2,3]))\n",
        "\n",
        "# Ones like\n",
        "print(t.ones_like(t.randint(5,10,[2,3])))"
      ],
      "metadata": {
        "colab": {
          "base_uri": "https://localhost:8080/"
        },
        "id": "PpomrJcbiHcK",
        "outputId": "69d88eb6-efac-4e9f-d8e6-6c4f0879dec9"
      },
      "execution_count": 14,
      "outputs": [
        {
          "output_type": "stream",
          "name": "stdout",
          "text": [
            "tensor([[0.6535, 0.6850, 0.9247],\n",
            "        [0.1632, 0.7463, 0.1063]])\n",
            "tensor([[ 0.3027, -0.5915, -0.5369],\n",
            "        [-0.0302, -0.3780,  1.7283]])\n",
            "tensor([[5, 7, 9],\n",
            "        [6, 8, 9]])\n",
            "tensor([[1, 1, 1],\n",
            "        [1, 1, 1]])\n"
          ]
        }
      ]
    },
    {
      "cell_type": "code",
      "source": [],
      "metadata": {
        "id": "CpCnqAhXGc97"
      },
      "execution_count": null,
      "outputs": []
    }
  ]
}